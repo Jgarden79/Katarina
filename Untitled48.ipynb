{
 "cells": [
  {
   "cell_type": "code",
   "execution_count": 11,
   "metadata": {},
   "outputs": [],
   "source": [
    "import numpy as np\n",
    "import pandas as pd\n",
    "import datetime as dt\n",
    "import scipy.stats as si\n",
    "import sympy as sy\n",
    "import sympy.stats as systats\n",
    "import warnings\n",
    "import json\n",
    "import requests\n",
    "from requests.auth import HTTPBasicAuth\n",
    "import scipy.optimize\n",
    "import re\n",
    "from sklearn.decomposition import KernelPCA"
   ]
  },
  {
   "cell_type": "code",
   "execution_count": 18,
   "metadata": {},
   "outputs": [
    {
     "data": {
      "text/plain": [
       "array([0.0031    , 0.0128    , 0.0319    , 0.0542    , 0.0165    ,\n",
       "       0.0376    , 0.0092    , 0.0322    , 0.0655    , 0.0702    ,\n",
       "       0.0701    , 0.0765    , 0.0591    , 0.1391    , 0.0831    ,\n",
       "       0.0228    , 0.0306    , 0.1006    , 0.0123    , 0.0349    ,\n",
       "       0.1082    , 0.1796    , 0.1679    , 0.1655    , 0.2384    ,\n",
       "       0.215     , 0.1974    , 0.235     , 0.2328    , 0.2178    ,\n",
       "       0.15      , 0.18      , 0.2434    , 0.132     , 0.1043    ,\n",
       "       0.1896    , 0.0538    , 0.07079884, 0.1775    , 0.0397    ,\n",
       "       0.07      , 0.2347    , 0.0567    , 0.        , 0.4447    ,\n",
       "       0.115     , 0.1644    ])"
      ]
     },
     "execution_count": 18,
     "metadata": {},
     "output_type": "execute_result"
    }
   ],
   "source": [
    "rho = pd.read_csv(\"correl_mat.csv\", index_col='Asset')\n",
    "sigma = pd.read_csv(\"sigma.csv\", index_col='Asset')\n",
    "corr = np.asanyarray(rho)\n",
    "std_ = np.asanyarray(sigma)\n",
    "covar = corr * np.outer(std_, std_)\n",
    "\n"
   ]
  },
  {
   "cell_type": "code",
   "execution_count": null,
   "metadata": {},
   "outputs": [],
   "source": []
  }
 ],
 "metadata": {
  "kernelspec": {
   "display_name": "Python 3",
   "language": "python",
   "name": "python3"
  },
  "language_info": {
   "codemirror_mode": {
    "name": "ipython",
    "version": 3
   },
   "file_extension": ".py",
   "mimetype": "text/x-python",
   "name": "python",
   "nbconvert_exporter": "python",
   "pygments_lexer": "ipython3",
   "version": "3.7.4"
  }
 },
 "nbformat": 4,
 "nbformat_minor": 4
}
